{
 "cells": [
  {
   "cell_type": "code",
   "execution_count": 1,
   "metadata": {},
   "outputs": [],
   "source": [
    "import os\n",
    "import pandas as pd"
   ]
  },
  {
   "cell_type": "code",
   "execution_count": 2,
   "metadata": {},
   "outputs": [
    {
     "data": {
      "text/plain": [
       "['../data_output/2017.csv',\n",
       " '../data_output/2018.csv',\n",
       " '../data_output/2019.csv']"
      ]
     },
     "execution_count": 2,
     "metadata": {},
     "output_type": "execute_result"
    }
   ],
   "source": [
    "DATA_DIR = os.path.join('..', 'data_output')\n",
    "start = 2017\n",
    "end = 2019\n",
    "FILES = [os.path.join(DATA_DIR, f'{year}.csv') for year in range(start, end+1)]\n",
    "FILES"
   ]
  },
  {
   "cell_type": "code",
   "execution_count": 3,
   "metadata": {},
   "outputs": [],
   "source": [
    "#Fall Season. September, October, November. ...\n",
    "#Winter Season. December, January, February. ...\n",
    "#Spring Season. March, April, May. ...\n",
    "#Summer Season. June, July, August. ...\n",
    "seasons = {1:'Winter', 2:'Winter', 3:'Spring', 4:'Spring', 5:'Spring', 6:'Summer', 7:'Summer', 8:'Summer',\n",
    "          9:'Fall', 10:'Fall', 11:'Fall', 12:'Winter'} "
   ]
  },
  {
   "cell_type": "code",
   "execution_count": 4,
   "metadata": {},
   "outputs": [],
   "source": [
    "yearly_dfs = {}\n",
    "for _file in FILES:\n",
    "    yearly_df = pd.read_csv(_file, low_memory=False)\n",
    "    year = int(os.path.basename(_file).replace('.csv', ''))\n",
    "    yearly_dfs[year]=yearly_df"
   ]
  },
  {
   "cell_type": "code",
   "execution_count": 5,
   "metadata": {},
   "outputs": [],
   "source": [
    "updated_yearly_dfs = {}\n",
    "for year in range(start, end+1):\n",
    "    updated_yearly_dfs[year] = yearly_dfs[year].copy()\n",
    "    updated_yearly_dfs[year]['Start Time'] = pd.to_datetime(yearly_dfs[year]['Start Time'])\n",
    "    updated_yearly_dfs[year]['Stop Time'] = pd.to_datetime(yearly_dfs[year]['Stop Time'])\n",
    "    "
   ]
  },
  {
   "cell_type": "code",
   "execution_count": 8,
   "metadata": {},
   "outputs": [],
   "source": [
    "for year in range(start, end+1):\n",
    "    updated_yearly_dfs[year]['Year'] = updated_yearly_dfs[year]['Stop Time'].dt.year\n",
    "    updated_yearly_dfs[year]['Month'] = updated_yearly_dfs[year]['Stop Time'].dt.month\n",
    "    updated_yearly_dfs[year]['Day'] = updated_yearly_dfs[year]['Stop Time'].dt.day\n",
    "    updated_yearly_dfs[year]['DayName'] = updated_yearly_dfs[year]['Stop Time'].dt.day_name()\n",
    "    updated_yearly_dfs[year]['Duration'] = (updated_yearly_dfs[year]['Stop Time'] - updated_yearly_dfs[year]['Start Time'])/pd.Timedelta('1 minute')\n",
    "    updated_yearly_dfs[year]['Season'] = updated_yearly_dfs[year].Month.apply(lambda m: seasons[m])\n",
    "    \n",
    "    "
   ]
  },
  {
   "cell_type": "code",
   "execution_count": 9,
   "metadata": {},
   "outputs": [],
   "source": [
    "final_df = pd.concat(updated_yearly_dfs.values(), sort=False)"
   ]
  },
  {
   "cell_type": "code",
   "execution_count": 10,
   "metadata": {},
   "outputs": [
    {
     "data": {
      "text/plain": [
       "(36511088, 21)"
      ]
     },
     "execution_count": 10,
     "metadata": {},
     "output_type": "execute_result"
    }
   ],
   "source": [
    "final_df.shape"
   ]
  },
  {
   "cell_type": "code",
   "execution_count": 11,
   "metadata": {},
   "outputs": [
    {
     "data": {
      "text/plain": [
       "array([2017, 2018, 2019])"
      ]
     },
     "execution_count": 11,
     "metadata": {},
     "output_type": "execute_result"
    }
   ],
   "source": [
    "final_df.Year.unique()"
   ]
  },
  {
   "cell_type": "code",
   "execution_count": 12,
   "metadata": {},
   "outputs": [
    {
     "data": {
      "text/plain": [
       "array(['Sunday', 'Tuesday', 'Monday', 'Wednesday', 'Thursday', 'Friday',\n",
       "       'Saturday'], dtype=object)"
      ]
     },
     "execution_count": 12,
     "metadata": {},
     "output_type": "execute_result"
    }
   ],
   "source": [
    "final_df.DayName.unique()"
   ]
  },
  {
   "cell_type": "code",
   "execution_count": 13,
   "metadata": {},
   "outputs": [
    {
     "data": {
      "text/plain": [
       "array([ 1,  3,  2,  4,  5,  7,  6,  8,  9, 10, 11, 12])"
      ]
     },
     "execution_count": 13,
     "metadata": {},
     "output_type": "execute_result"
    }
   ],
   "source": [
    "final_df.Month.unique()"
   ]
  },
  {
   "cell_type": "code",
   "execution_count": 15,
   "metadata": {},
   "outputs": [
    {
     "data": {
      "text/plain": [
       "array([  11.33333333,   21.38333333,   10.81666667, ...,  586.28205   ,\n",
       "       9528.46378333,   46.16823333])"
      ]
     },
     "execution_count": 15,
     "metadata": {},
     "output_type": "execute_result"
    }
   ],
   "source": [
    "final_df.Duration.unique()"
   ]
  },
  {
   "cell_type": "code",
   "execution_count": 16,
   "metadata": {},
   "outputs": [],
   "source": [
    "OUTPUT_FILE = os.path.join(DATA_DIR, 'select_sample.csv')\n",
    "final_df.to_csv(OUTPUT_FILE, index=False)"
   ]
  },
  {
   "cell_type": "code",
   "execution_count": null,
   "metadata": {},
   "outputs": [],
   "source": []
  }
 ],
 "metadata": {
  "kernelspec": {
   "display_name": "Python 3",
   "language": "python",
   "name": "python3"
  },
  "language_info": {
   "codemirror_mode": {
    "name": "ipython",
    "version": 3
   },
   "file_extension": ".py",
   "mimetype": "text/x-python",
   "name": "python",
   "nbconvert_exporter": "python",
   "pygments_lexer": "ipython3",
   "version": "3.7.2"
  }
 },
 "nbformat": 4,
 "nbformat_minor": 2
}
